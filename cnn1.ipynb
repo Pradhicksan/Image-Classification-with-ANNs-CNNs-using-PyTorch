{
 "cells": [
  {
   "cell_type": "code",
   "execution_count": 1,
   "metadata": {},
   "outputs": [],
   "source": [
    "import pandas as pd\n",
    "import torch\n",
    "import torch.nn as nn\n",
    "import matplotlib.pyplot as plt\n",
    "from torch.utils.data import Dataset, DataLoader\n",
    "import time"
   ]
  },
  {
   "cell_type": "code",
   "execution_count": 2,
   "metadata": {},
   "outputs": [
    {
     "name": "stdout",
     "output_type": "stream",
     "text": [
      "cuda\n"
     ]
    }
   ],
   "source": [
    "train_data_path = r\"E:\\AbioticNeuron\\DS\\Pytorch\\fmnist_problem\\dataset\\fashion-mnist_train.csv\"\n",
    "test_data_path = r\"E:\\AbioticNeuron\\DS\\Pytorch\\fmnist_problem\\dataset\\fashion-mnist_test.csv\"\n",
    "x_dtype = torch.float32\n",
    "y_dtype = torch.long\n",
    "device = torch.device('cuda' if torch.cuda.is_available() else 'cpu')# torch.device('cpu') \n",
    "print(device)\n",
    "learning_rate = 0.1\n",
    "epochs = 100"
   ]
  },
  {
   "cell_type": "markdown",
   "metadata": {},
   "source": [
    "## Data Preparation"
   ]
  },
  {
   "cell_type": "code",
   "execution_count": 3,
   "metadata": {},
   "outputs": [],
   "source": [
    "train_data = pd.read_csv(train_data_path)\n",
    "test_data = pd.read_csv(test_data_path)"
   ]
  },
  {
   "cell_type": "code",
   "execution_count": 4,
   "metadata": {},
   "outputs": [],
   "source": [
    "train_data_x = train_data.iloc[:, 1:]/255.0\n",
    "train_data_y = train_data.iloc[:,0]\n",
    "\n",
    "test_data_x = test_data.iloc[:, 1:]/255.0\n",
    "test_data_y = test_data.iloc[:,0]"
   ]
  },
  {
   "cell_type": "code",
   "execution_count": 5,
   "metadata": {},
   "outputs": [],
   "source": [
    "class FMNISTDataset(Dataset):\n",
    "    def __init__(self, input_x, input_y, device):\n",
    "        super().__init__()\n",
    "        # Convert to tensors and move to device once\n",
    "        self.x = torch.tensor(input_x.values, dtype=x_dtype, device=device).reshape(-1,1, 28, 28) # reshaped\n",
    "        self.y = torch.tensor(input_y.values, dtype=y_dtype, device=device)\n",
    "\n",
    "    def __len__(self):\n",
    "        return self.y.shape[0]\n",
    "\n",
    "    def __getitem__(self, index):\n",
    "        return self.x[index], self.y[index]"
   ]
  },
  {
   "cell_type": "code",
   "execution_count": 6,
   "metadata": {},
   "outputs": [],
   "source": [
    "train_dataset = FMNISTDataset(train_data_x, train_data_y, device)\n",
    "test_dataset = FMNISTDataset(test_data_x, test_data_y, device)\n",
    "\n",
    "train_data_loader = DataLoader(dataset=train_dataset, batch_size=64, shuffle=True)\n",
    "test_data_loader = DataLoader(dataset=test_dataset, batch_size=64, shuffle=True)"
   ]
  },
  {
   "cell_type": "markdown",
   "metadata": {},
   "source": [
    "## Model Architecture"
   ]
  },
  {
   "cell_type": "code",
   "execution_count": 7,
   "metadata": {},
   "outputs": [],
   "source": [
    "class NNModel(torch.nn.Module):\n",
    "    def __init__(self):\n",
    "        super().__init__()\n",
    "        self.conv_layer = nn.Sequential(\n",
    "            nn.Conv2d(1, 32,kernel_size=3, padding='same'), # 1here refers to number of channels\n",
    "            nn.ReLU(),\n",
    "            nn.BatchNorm2d(32), \n",
    "            nn.MaxPool2d(kernel_size=2, stride = 2),\n",
    "\n",
    "\n",
    "            nn.Conv2d(32,64,kernel_size=3, padding='same'),\n",
    "            nn.ReLU(),\n",
    "            nn.BatchNorm2d(64),\n",
    "            nn.MaxPool2d(kernel_size=2, stride=2)\n",
    "\n",
    "        )\n",
    "\n",
    "        self.nn_layer = nn.Sequential(\n",
    "            nn.Flatten(), # flatens the input to 1d tensor\n",
    "            nn.Linear(64*7*7, 128),\n",
    "            nn.BatchNorm1d(128),\n",
    "            nn.ReLU(),\n",
    "            nn.Dropout(p=0.3),\n",
    "            nn.Linear(128, 64),\n",
    "            nn.BatchNorm1d(64),   # have added batch normalization layers\n",
    "            nn.ReLU(),\n",
    "            nn.Dropout(p=0.3),    # have added dropouts 30%\n",
    "            nn.Linear(64, 10)\n",
    "        )\n",
    "\n",
    "    def forward(self, x):\n",
    "        x = self.conv_layer(x)\n",
    "        x = self.nn_layer(x)\n",
    "        return x\n",
    "\n",
    "\n",
    "\n"
   ]
  },
  {
   "cell_type": "markdown",
   "metadata": {},
   "source": [
    "## Model Training"
   ]
  },
  {
   "cell_type": "code",
   "execution_count": 8,
   "metadata": {},
   "outputs": [],
   "source": [
    "model = NNModel()\n",
    "model = model.to(device=device) # moving to gpu"
   ]
  },
  {
   "cell_type": "code",
   "execution_count": 9,
   "metadata": {},
   "outputs": [],
   "source": [
    "optimizer = torch.optim.SGD(params=model.parameters(), lr=learning_rate, weight_decay=1e-4) # have added 1e-4 lambda for regularization\n",
    "loss_function = nn.CrossEntropyLoss()"
   ]
  },
  {
   "cell_type": "code",
   "execution_count": 10,
   "metadata": {},
   "outputs": [
    {
     "name": "stdout",
     "output_type": "stream",
     "text": [
      "Epoch-0 Average Loss: 0.4445\n",
      "Epoch-1 Average Loss: 0.2987\n",
      "Epoch-2 Average Loss: 0.2592\n",
      "Epoch-3 Average Loss: 0.2337\n",
      "Epoch-4 Average Loss: 0.2149\n",
      "Epoch-5 Average Loss: 0.1967\n",
      "Epoch-6 Average Loss: 0.1822\n",
      "Epoch-7 Average Loss: 0.1694\n",
      "Epoch-8 Average Loss: 0.1595\n",
      "Epoch-9 Average Loss: 0.1510\n",
      "Epoch-10 Average Loss: 0.1382\n",
      "Epoch-11 Average Loss: 0.1285\n",
      "Epoch-12 Average Loss: 0.1226\n",
      "Epoch-13 Average Loss: 0.1134\n",
      "Epoch-14 Average Loss: 0.1094\n",
      "Epoch-15 Average Loss: 0.1050\n",
      "Epoch-16 Average Loss: 0.0954\n",
      "Epoch-17 Average Loss: 0.0960\n",
      "Epoch-18 Average Loss: 0.0861\n",
      "Epoch-19 Average Loss: 0.0861\n",
      "Epoch-20 Average Loss: 0.0809\n",
      "Epoch-21 Average Loss: 0.0738\n",
      "Epoch-22 Average Loss: 0.0749\n",
      "Epoch-23 Average Loss: 0.0672\n",
      "Epoch-24 Average Loss: 0.0686\n",
      "Epoch-25 Average Loss: 0.0657\n",
      "Epoch-26 Average Loss: 0.0602\n",
      "Epoch-27 Average Loss: 0.0591\n",
      "Epoch-28 Average Loss: 0.0543\n",
      "Epoch-29 Average Loss: 0.0548\n",
      "Epoch-30 Average Loss: 0.0558\n",
      "Epoch-31 Average Loss: 0.0525\n",
      "Epoch-32 Average Loss: 0.0529\n",
      "Epoch-33 Average Loss: 0.0513\n",
      "Epoch-34 Average Loss: 0.0489\n",
      "Epoch-35 Average Loss: 0.0459\n",
      "Epoch-36 Average Loss: 0.0422\n",
      "Epoch-37 Average Loss: 0.0449\n",
      "Epoch-38 Average Loss: 0.0421\n",
      "Epoch-39 Average Loss: 0.0434\n",
      "Epoch-40 Average Loss: 0.0400\n",
      "Epoch-41 Average Loss: 0.0418\n",
      "Epoch-42 Average Loss: 0.0397\n",
      "Epoch-43 Average Loss: 0.0386\n",
      "Epoch-44 Average Loss: 0.0392\n",
      "Epoch-45 Average Loss: 0.0414\n",
      "Epoch-46 Average Loss: 0.0394\n",
      "Epoch-47 Average Loss: 0.0385\n",
      "Epoch-48 Average Loss: 0.0336\n",
      "Epoch-49 Average Loss: 0.0362\n",
      "Epoch-50 Average Loss: 0.0330\n",
      "Epoch-51 Average Loss: 0.0352\n",
      "Epoch-52 Average Loss: 0.0330\n",
      "Epoch-53 Average Loss: 0.0338\n",
      "Epoch-54 Average Loss: 0.0361\n",
      "Epoch-55 Average Loss: 0.0323\n",
      "Epoch-56 Average Loss: 0.0323\n",
      "Epoch-57 Average Loss: 0.0312\n",
      "Epoch-58 Average Loss: 0.0303\n",
      "Epoch-59 Average Loss: 0.0317\n",
      "Epoch-60 Average Loss: 0.0319\n",
      "Epoch-61 Average Loss: 0.0314\n",
      "Epoch-62 Average Loss: 0.0301\n",
      "Epoch-63 Average Loss: 0.0307\n",
      "Epoch-64 Average Loss: 0.0327\n",
      "Epoch-65 Average Loss: 0.0313\n",
      "Epoch-66 Average Loss: 0.0309\n",
      "Epoch-67 Average Loss: 0.0278\n",
      "Epoch-68 Average Loss: 0.0269\n",
      "Epoch-69 Average Loss: 0.0314\n",
      "Epoch-70 Average Loss: 0.0309\n",
      "Epoch-71 Average Loss: 0.0275\n",
      "Epoch-72 Average Loss: 0.0286\n",
      "Epoch-73 Average Loss: 0.0276\n",
      "Epoch-74 Average Loss: 0.0284\n",
      "Epoch-75 Average Loss: 0.0268\n",
      "Epoch-76 Average Loss: 0.0276\n",
      "Epoch-77 Average Loss: 0.0278\n",
      "Epoch-78 Average Loss: 0.0274\n",
      "Epoch-79 Average Loss: 0.0285\n",
      "Epoch-80 Average Loss: 0.0249\n",
      "Epoch-81 Average Loss: 0.0256\n",
      "Epoch-82 Average Loss: 0.0287\n",
      "Epoch-83 Average Loss: 0.0261\n",
      "Epoch-84 Average Loss: 0.0279\n",
      "Epoch-85 Average Loss: 0.0273\n",
      "Epoch-86 Average Loss: 0.0311\n",
      "Epoch-87 Average Loss: 0.0254\n",
      "Epoch-88 Average Loss: 0.0253\n",
      "Epoch-89 Average Loss: 0.0251\n",
      "Epoch-90 Average Loss: 0.0253\n",
      "Epoch-91 Average Loss: 0.0242\n",
      "Epoch-92 Average Loss: 0.0240\n",
      "Epoch-93 Average Loss: 0.0259\n",
      "Epoch-94 Average Loss: 0.0257\n",
      "Epoch-95 Average Loss: 0.0255\n",
      "Epoch-96 Average Loss: 0.0249\n",
      "Epoch-97 Average Loss: 0.0290\n",
      "Epoch-98 Average Loss: 0.0256\n",
      "Epoch-99 Average Loss: 0.0304\n",
      "Total Training Time: 1051.98 seconds\n"
     ]
    }
   ],
   "source": [
    "epoch_losses = []\n",
    "\n",
    "start_time = time.time()\n",
    "for epoch in range(epochs):\n",
    "    epoch_loss = 0.0\n",
    "    batch_count = 0\n",
    "    \n",
    "    for batch_idx, (features, label) in enumerate(train_data_loader):\n",
    "        \n",
    "        prediction = model(features)\n",
    "        loss = loss_function(prediction, label)\n",
    "        optimizer.zero_grad()\n",
    "        loss.backward()\n",
    "        optimizer.step()\n",
    " \n",
    "        epoch_loss += loss.item()\n",
    "        batch_count += 1\n",
    "\n",
    "    avg_loss = epoch_loss / batch_count\n",
    "    epoch_losses.append(avg_loss)\n",
    "    print(f\"Epoch-{epoch} Average Loss: {avg_loss:.4f}\")\n",
    "\n",
    "stop_time = time.time()\n",
    "print(f\"Total Training Time: {stop_time - start_time:.2f} seconds\")\n"
   ]
  },
  {
   "cell_type": "code",
   "execution_count": 11,
   "metadata": {},
   "outputs": [
    {
     "data": {
      "image/png": "[encoded data removed]",
      "text/plain": [
       "<Figure size 640x480 with 1 Axes>"
      ]
     },
     "metadata": {},
     "output_type": "display_data"
    }
   ],
   "source": [
    "import matplotlib.pyplot as plt\n",
    "\n",
    "plt.plot(range(1, epochs+1), epoch_losses, marker='o')\n",
    "plt.xlabel('Epoch')\n",
    "plt.ylabel('Average Loss')\n",
    "plt.title('Training Loss per Epoch')\n",
    "plt.grid(True)\n",
    "plt.show()"
   ]
  },
  {
   "cell_type": "markdown",
   "metadata": {},
   "source": [
    "## Model Evaluation"
   ]
  },
  {
   "cell_type": "code",
   "execution_count": 12,
   "metadata": {},
   "outputs": [
    {
     "name": "stdout",
     "output_type": "stream",
     "text": [
      "==================================================\n",
      "Dataset          Size     Accuracy\n",
      "--------------------------------------------------\n",
      "Train           60000    99.0617%\n",
      "Test            10000    92.5700%\n",
      "==================================================\n"
     ]
    }
   ],
   "source": [
    "model.eval()\n",
    "\n",
    "train_total = 0\n",
    "train_correct = 0\n",
    "test_total = 0\n",
    "test_correct = 0\n",
    "\n",
    "with torch.no_grad():\n",
    "    # Train data accuracy\n",
    "    for x, y in train_data_loader:\n",
    "        y_pred = model(x)                          # (batch_size, num_classes)\n",
    "        predicted = torch.argmax(y_pred, dim=1)    # (batch_size,)\n",
    "        train_total += y.size(0)\n",
    "        train_correct += (predicted == y).sum().item()\n",
    "\n",
    "    # Test data accuracy\n",
    "    for x, y in test_data_loader:\n",
    "        y_pred = model(x)\n",
    "        predicted = torch.argmax(y_pred, dim=1)\n",
    "        test_total += y.size(0)\n",
    "        test_correct += (predicted == y).sum().item()\n",
    "\n",
    "# Results (formatted)\n",
    "print(\"=\" * 50)\n",
    "print(f\"{'Dataset':<12} {'Size':>8} {'Accuracy':>12}\")\n",
    "print(\"-\" * 50)\n",
    "print(f\"{'Train':<12} {train_total:>8} {train_correct / train_total:>11.4%}\")\n",
    "print(f\"{'Test':<12} {test_total:>8} {test_correct / test_total:>11.4%}\")\n",
    "print(\"=\" * 50)\n"
   ]
  },
  {
   "cell_type": "markdown",
   "metadata": {},
   "source": [
    "## Saving the Weights"
   ]
  },
  {
   "cell_type": "code",
   "execution_count": 13,
   "metadata": {},
   "outputs": [],
   "source": [
    "# Save\n",
    "torch.save(model.state_dict(), \"cnn1.pth\")"
   ]
  }
 ],
 "metadata": {
  "kernelspec": {
   "display_name": "torch_learn_venv",
   "language": "python",
   "name": "python3"
  },
  "language_info": {
   "codemirror_mode": {
    "name": "ipython",
    "version": 3
   },
   "file_extension": ".py",
   "mimetype": "text/x-python",
   "name": "python",
   "nbconvert_exporter": "python",
   "pygments_lexer": "ipython3",
   "version": "3.12.8"
  }
 },
 "nbformat": 4,
 "nbformat_minor": 2
}
