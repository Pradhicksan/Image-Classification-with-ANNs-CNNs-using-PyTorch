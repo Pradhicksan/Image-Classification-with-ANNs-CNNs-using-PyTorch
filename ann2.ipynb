{
 "cells": [
  {
   "cell_type": "markdown",
   "metadata": {},
   "source": [
    "Methods to reduce over-fitting of a Network\n",
    "- Add more data: No more data avilable\n",
    "- Reduce the complexity of the model: Our architecture is already simple\n",
    "- Regularization: L2 regularization - regularization parameter lambda\n",
    "- Batch Normalization: normalize the batch input for each hidden layer - applied before the activation function\n",
    "- Dropouts: Randomly turn off certain p% neurons during training - reduces overfitting - as the model becomes simpler, reduces overfitting - appliead after activation\n",
    "- Data Augmentation: Transforming data like rotating it and making copies of it - so it can generalize well(works well in CNN)\n",
    "- Early stopping: stopping training if loss doesn't decrease considerably"
   ]
  },
  {
   "cell_type": "code",
   "execution_count": 1,
   "metadata": {},
   "outputs": [],
   "source": [
    "import pandas as pd\n",
    "import torch\n",
    "import torch.nn as nn\n",
    "import matplotlib.pyplot as plt\n",
    "from torch.utils.data import Dataset, DataLoader\n",
    "import time"
   ]
  },
  {
   "cell_type": "code",
   "execution_count": 2,
   "metadata": {},
   "outputs": [
    {
     "name": "stdout",
     "output_type": "stream",
     "text": [
      "cuda\n"
     ]
    }
   ],
   "source": [
    "train_data_path = r\"E:\\AbioticNeuron\\DS\\Pytorch\\fmnist_problem\\dataset\\fashion-mnist_train.csv\"\n",
    "test_data_path = r\"E:\\AbioticNeuron\\DS\\Pytorch\\fmnist_problem\\dataset\\fashion-mnist_test.csv\"\n",
    "x_dtype = torch.float32\n",
    "y_dtype = torch.long\n",
    "device = torch.device('cuda' if torch.cuda.is_available() else 'cpu')# torch.device('cpu') \n",
    "print(device)\n",
    "learning_rate = 0.1\n",
    "epochs = 100"
   ]
  },
  {
   "cell_type": "markdown",
   "metadata": {},
   "source": [
    "## Data Preparation"
   ]
  },
  {
   "cell_type": "code",
   "execution_count": 3,
   "metadata": {},
   "outputs": [],
   "source": [
    "train_data = pd.read_csv(train_data_path)\n",
    "test_data = pd.read_csv(test_data_path)"
   ]
  },
  {
   "cell_type": "code",
   "execution_count": 4,
   "metadata": {},
   "outputs": [],
   "source": [
    "train_data_x = train_data.iloc[:, 1:]/255.0\n",
    "train_data_y = train_data.iloc[:,0]\n",
    "\n",
    "test_data_x = test_data.iloc[:, 1:]/255.0\n",
    "test_data_y = test_data.iloc[:,0]"
   ]
  },
  {
   "cell_type": "code",
   "execution_count": 5,
   "metadata": {},
   "outputs": [],
   "source": [
    "class FMNISTDataset(Dataset):\n",
    "    def __init__(self, input_x, input_y, device):\n",
    "        super().__init__()\n",
    "        # Convert to tensors and move to device once\n",
    "        self.x = torch.tensor(input_x.values, dtype=x_dtype, device=device)\n",
    "        self.y = torch.tensor(input_y.values, dtype=y_dtype, device=device)\n",
    "\n",
    "    def __len__(self):\n",
    "        return self.y.shape[0]\n",
    "\n",
    "    def __getitem__(self, index):\n",
    "        return self.x[index], self.y[index]"
   ]
  },
  {
   "cell_type": "code",
   "execution_count": 6,
   "metadata": {},
   "outputs": [],
   "source": [
    "train_dataset = FMNISTDataset(train_data_x, train_data_y, device)\n",
    "test_dataset = FMNISTDataset(test_data_x, test_data_y, device)\n",
    "\n",
    "train_data_loader = DataLoader(dataset=train_dataset, batch_size=64, shuffle=True)\n",
    "test_data_loader = DataLoader(dataset=test_dataset, batch_size=64, shuffle=True)"
   ]
  },
  {
   "cell_type": "markdown",
   "metadata": {},
   "source": [
    "## Modified Model Architecture"
   ]
  },
  {
   "cell_type": "code",
   "execution_count": 7,
   "metadata": {},
   "outputs": [],
   "source": [
    "class NNModel(torch.nn.Module):\n",
    "    def __init__(self, num_features, l_r):\n",
    "        super().__init__()\n",
    "        self.neural_network = nn.Sequential(\n",
    "            nn.Linear(num_features, 128),\n",
    "            nn.BatchNorm1d(128),\n",
    "            nn.ReLU(),\n",
    "            nn.Dropout(p=0.3),\n",
    "            nn.Linear(128, 64),\n",
    "            nn.BatchNorm1d(64),   # have added batch normalization layers\n",
    "            nn.ReLU(),\n",
    "            nn.Dropout(p=0.3),    # have added dropouts 30%\n",
    "            nn.Linear(64, 10)\n",
    "        )\n",
    "        self.loss_function = nn.CrossEntropyLoss()\n",
    "        self.optimizer = torch.optim.SGD(params=self.neural_network.parameters(), lr=l_r, weight_decay=1e-4) # have added 1e-4 lambda for regularization\n",
    "        self.loss = None\n",
    "\n",
    "    def forward(self, x):\n",
    "        return self.neural_network(x)\n",
    "\n",
    "    # change method\n",
    "    def backward(self, loss):\n",
    "        self.optimizer.zero_grad()\n",
    "        loss.backward()\n",
    "        self.optimizer.step()\n",
    "\n"
   ]
  },
  {
   "cell_type": "markdown",
   "metadata": {},
   "source": [
    "## Model Training"
   ]
  },
  {
   "cell_type": "code",
   "execution_count": 8,
   "metadata": {},
   "outputs": [],
   "source": [
    "model = NNModel(num_features=784, l_r=learning_rate)\n",
    "model = model.to(device=device) # moving to gpu"
   ]
  },
  {
   "cell_type": "code",
   "execution_count": 9,
   "metadata": {},
   "outputs": [
    {
     "name": "stdout",
     "output_type": "stream",
     "text": [
      "Epoch-0 Average Loss: 0.6033\n",
      "Epoch-1 Average Loss: 0.4632\n",
      "Epoch-2 Average Loss: 0.4271\n",
      "Epoch-3 Average Loss: 0.4046\n",
      "Epoch-4 Average Loss: 0.3927\n",
      "Epoch-5 Average Loss: 0.3747\n",
      "Epoch-6 Average Loss: 0.3671\n",
      "Epoch-7 Average Loss: 0.3554\n",
      "Epoch-8 Average Loss: 0.3480\n",
      "Epoch-9 Average Loss: 0.3402\n",
      "Epoch-10 Average Loss: 0.3324\n",
      "Epoch-11 Average Loss: 0.3278\n",
      "Epoch-12 Average Loss: 0.3234\n",
      "Epoch-13 Average Loss: 0.3195\n",
      "Epoch-14 Average Loss: 0.3151\n",
      "Epoch-15 Average Loss: 0.3097\n",
      "Epoch-16 Average Loss: 0.3101\n",
      "Epoch-17 Average Loss: 0.3057\n",
      "Epoch-18 Average Loss: 0.3006\n",
      "Epoch-19 Average Loss: 0.2975\n",
      "Epoch-20 Average Loss: 0.2949\n",
      "Epoch-21 Average Loss: 0.2939\n",
      "Epoch-22 Average Loss: 0.2893\n",
      "Epoch-23 Average Loss: 0.2880\n",
      "Epoch-24 Average Loss: 0.2863\n",
      "Epoch-25 Average Loss: 0.2831\n",
      "Epoch-26 Average Loss: 0.2799\n",
      "Epoch-27 Average Loss: 0.2796\n",
      "Epoch-28 Average Loss: 0.2781\n",
      "Epoch-29 Average Loss: 0.2757\n",
      "Epoch-30 Average Loss: 0.2772\n",
      "Epoch-31 Average Loss: 0.2724\n",
      "Epoch-32 Average Loss: 0.2698\n",
      "Epoch-33 Average Loss: 0.2683\n",
      "Epoch-34 Average Loss: 0.2647\n",
      "Epoch-35 Average Loss: 0.2649\n",
      "Epoch-36 Average Loss: 0.2672\n",
      "Epoch-37 Average Loss: 0.2624\n",
      "Epoch-38 Average Loss: 0.2615\n",
      "Epoch-39 Average Loss: 0.2582\n",
      "Epoch-40 Average Loss: 0.2582\n",
      "Epoch-41 Average Loss: 0.2571\n",
      "Epoch-42 Average Loss: 0.2593\n",
      "Epoch-43 Average Loss: 0.2595\n",
      "Epoch-44 Average Loss: 0.2552\n",
      "Epoch-45 Average Loss: 0.2536\n",
      "Epoch-46 Average Loss: 0.2527\n",
      "Epoch-47 Average Loss: 0.2501\n",
      "Epoch-48 Average Loss: 0.2493\n",
      "Epoch-49 Average Loss: 0.2479\n",
      "Epoch-50 Average Loss: 0.2491\n",
      "Epoch-51 Average Loss: 0.2499\n",
      "Epoch-52 Average Loss: 0.2489\n",
      "Epoch-53 Average Loss: 0.2469\n",
      "Epoch-54 Average Loss: 0.2464\n",
      "Epoch-55 Average Loss: 0.2453\n",
      "Epoch-56 Average Loss: 0.2460\n",
      "Epoch-57 Average Loss: 0.2457\n",
      "Epoch-58 Average Loss: 0.2454\n",
      "Epoch-59 Average Loss: 0.2410\n",
      "Epoch-60 Average Loss: 0.2418\n",
      "Epoch-61 Average Loss: 0.2386\n",
      "Epoch-62 Average Loss: 0.2372\n",
      "Epoch-63 Average Loss: 0.2399\n",
      "Epoch-64 Average Loss: 0.2380\n",
      "Epoch-65 Average Loss: 0.2386\n",
      "Epoch-66 Average Loss: 0.2362\n",
      "Epoch-67 Average Loss: 0.2340\n",
      "Epoch-68 Average Loss: 0.2315\n",
      "Epoch-69 Average Loss: 0.2350\n",
      "Epoch-70 Average Loss: 0.2353\n",
      "Epoch-71 Average Loss: 0.2344\n",
      "Epoch-72 Average Loss: 0.2328\n",
      "Epoch-73 Average Loss: 0.2333\n",
      "Epoch-74 Average Loss: 0.2337\n",
      "Epoch-75 Average Loss: 0.2306\n",
      "Epoch-76 Average Loss: 0.2305\n",
      "Epoch-77 Average Loss: 0.2313\n",
      "Epoch-78 Average Loss: 0.2314\n",
      "Epoch-79 Average Loss: 0.2292\n",
      "Epoch-80 Average Loss: 0.2304\n",
      "Epoch-81 Average Loss: 0.2240\n",
      "Epoch-82 Average Loss: 0.2292\n",
      "Epoch-83 Average Loss: 0.2295\n",
      "Epoch-84 Average Loss: 0.2270\n",
      "Epoch-85 Average Loss: 0.2272\n",
      "Epoch-86 Average Loss: 0.2238\n",
      "Epoch-87 Average Loss: 0.2230\n",
      "Epoch-88 Average Loss: 0.2285\n",
      "Epoch-89 Average Loss: 0.2261\n",
      "Epoch-90 Average Loss: 0.2247\n",
      "Epoch-91 Average Loss: 0.2241\n",
      "Epoch-92 Average Loss: 0.2264\n",
      "Epoch-93 Average Loss: 0.2249\n",
      "Epoch-94 Average Loss: 0.2242\n",
      "Epoch-95 Average Loss: 0.2196\n",
      "Epoch-96 Average Loss: 0.2246\n",
      "Epoch-97 Average Loss: 0.2231\n",
      "Epoch-98 Average Loss: 0.2234\n",
      "Epoch-99 Average Loss: 0.2214\n",
      "Total Training Time: 233.10 seconds\n"
     ]
    }
   ],
   "source": [
    "epoch_losses = []\n",
    "\n",
    "start_time = time.time()\n",
    "for epoch in range(epochs):\n",
    "    epoch_loss = 0.0\n",
    "    batch_count = 0\n",
    "    \n",
    "    for batch_idx, (features, label) in enumerate(train_data_loader):\n",
    "        \n",
    "        prediction = model(features)\n",
    "        loss = model.loss_function(prediction, label)\n",
    "        model.backward(loss=loss)\n",
    " \n",
    "        epoch_loss += loss.item()\n",
    "        batch_count += 1\n",
    "\n",
    "    avg_loss = epoch_loss / batch_count\n",
    "    epoch_losses.append(avg_loss)\n",
    "    print(f\"Epoch-{epoch} Average Loss: {avg_loss:.4f}\")\n",
    "\n",
    "stop_time = time.time()\n",
    "print(f\"Total Training Time: {stop_time - start_time:.2f} seconds\")\n"
   ]
  },
  {
   "cell_type": "code",
   "execution_count": 10,
   "metadata": {},
   "outputs": [
    {
     "data": {
      "image/png": "[encoded data removed]",
      "text/plain": [
       "<Figure size 640x480 with 1 Axes>"
      ]
     },
     "metadata": {},
     "output_type": "display_data"
    }
   ],
   "source": [
    "import matplotlib.pyplot as plt\n",
    "\n",
    "plt.plot(range(1, epochs+1), epoch_losses, marker='o')\n",
    "plt.xlabel('Epoch')\n",
    "plt.ylabel('Average Loss')\n",
    "plt.title('Training Loss per Epoch')\n",
    "plt.grid(True)\n",
    "plt.show()"
   ]
  },
  {
   "cell_type": "markdown",
   "metadata": {},
   "source": [
    "## Model Evaluation"
   ]
  },
  {
   "cell_type": "code",
   "execution_count": 11,
   "metadata": {},
   "outputs": [
    {
     "name": "stdout",
     "output_type": "stream",
     "text": [
      "==================================================\n",
      "Dataset          Size     Accuracy\n",
      "--------------------------------------------------\n",
      "Train           60000    94.5283%\n",
      "Test            10000    89.5800%\n",
      "==================================================\n"
     ]
    }
   ],
   "source": [
    "model.eval()\n",
    "\n",
    "train_total = 0\n",
    "train_correct = 0\n",
    "test_total = 0\n",
    "test_correct = 0\n",
    "\n",
    "with torch.no_grad():\n",
    "    # Train data accuracy\n",
    "    for x, y in train_data_loader:\n",
    "        y_pred = model(x)                          # (batch_size, num_classes)\n",
    "        predicted = torch.argmax(y_pred, dim=1)    # (batch_size,)\n",
    "        train_total += y.size(0)\n",
    "        train_correct += (predicted == y).sum().item()\n",
    "\n",
    "    # Test data accuracy\n",
    "    for x, y in test_data_loader:\n",
    "        y_pred = model(x)\n",
    "        predicted = torch.argmax(y_pred, dim=1)\n",
    "        test_total += y.size(0)\n",
    "        test_correct += (predicted == y).sum().item()\n",
    "\n",
    "# Results (formatted)\n",
    "print(\"=\" * 50)\n",
    "print(f\"{'Dataset':<12} {'Size':>8} {'Accuracy':>12}\")\n",
    "print(\"-\" * 50)\n",
    "print(f\"{'Train':<12} {train_total:>8} {train_correct / train_total:>11.4%}\")\n",
    "print(f\"{'Test':<12} {test_total:>8} {test_correct / test_total:>11.4%}\")\n",
    "print(\"=\" * 50)\n"
   ]
  },
  {
   "cell_type": "markdown",
   "metadata": {},
   "source": [
    "## Saving the Weights"
   ]
  },
  {
   "cell_type": "code",
   "execution_count": 12,
   "metadata": {},
   "outputs": [],
   "source": [
    "# Save\n",
    "torch.save(model.state_dict(), \"ann2.pth\")"
   ]
  }
 ],
 "metadata": {
  "kernelspec": {
   "display_name": "torch_learn_venv",
   "language": "python",
   "name": "python3"
  },
  "language_info": {
   "codemirror_mode": {
    "name": "ipython",
    "version": 3
   },
   "file_extension": ".py",
   "mimetype": "text/x-python",
   "name": "python",
   "nbconvert_exporter": "python",
   "pygments_lexer": "ipython3",
   "version": "3.12.8"
  }
 },
 "nbformat": 4,
 "nbformat_minor": 2
}
