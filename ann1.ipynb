{
 "cells": [
  {
   "cell_type": "code",
   "execution_count": 1,
   "metadata": {},
   "outputs": [],
   "source": [
    "import pandas as pd\n",
    "import torch\n",
    "import torch.nn as nn\n",
    "import matplotlib.pyplot as plt\n",
    "from torch.utils.data import Dataset, DataLoader\n",
    "import time"
   ]
  },
  {
   "cell_type": "code",
   "execution_count": 2,
   "metadata": {},
   "outputs": [
    {
     "name": "stdout",
     "output_type": "stream",
     "text": [
      "cuda\n"
     ]
    }
   ],
   "source": [
    "train_data_path = r\"E:\\AbioticNeuron\\DS\\Pytorch\\fmnist_problem\\dataset\\fashion-mnist_train.csv\"\n",
    "test_data_path = r\"E:\\AbioticNeuron\\DS\\Pytorch\\fmnist_problem\\dataset\\fashion-mnist_test.csv\"\n",
    "x_dtype = torch.float32\n",
    "y_dtype = torch.long\n",
    "device = torch.device('cuda' if torch.cuda.is_available() else 'cpu')# torch.device('cpu') \n",
    "print(device)\n",
    "learning_rate = 0.1\n",
    "epochs = 100"
   ]
  },
  {
   "cell_type": "markdown",
   "metadata": {},
   "source": [
    "## Data Preparation"
   ]
  },
  {
   "cell_type": "code",
   "execution_count": 3,
   "metadata": {},
   "outputs": [],
   "source": [
    "train_data = pd.read_csv(train_data_path)\n",
    "test_data = pd.read_csv(test_data_path)"
   ]
  },
  {
   "cell_type": "code",
   "execution_count": 4,
   "metadata": {},
   "outputs": [
    {
     "data": {
      "text/html": [
       "<div>\n",
       "<style scoped>\n",
       "    .dataframe tbody tr th:only-of-type {\n",
       "        vertical-align: middle;\n",
       "    }\n",
       "\n",
       "    .dataframe tbody tr th {\n",
       "        vertical-align: top;\n",
       "    }\n",
       "\n",
       "    .dataframe thead th {\n",
       "        text-align: right;\n",
       "    }\n",
       "</style>\n",
       "<table border=\"1\" class=\"dataframe\">\n",
       "  <thead>\n",
       "    <tr style=\"text-align: right;\">\n",
       "      <th></th>\n",
       "      <th>label</th>\n",
       "      <th>pixel1</th>\n",
       "      <th>pixel2</th>\n",
       "      <th>pixel3</th>\n",
       "      <th>pixel4</th>\n",
       "      <th>pixel5</th>\n",
       "      <th>pixel6</th>\n",
       "      <th>pixel7</th>\n",
       "      <th>pixel8</th>\n",
       "      <th>pixel9</th>\n",
       "      <th>...</th>\n",
       "      <th>pixel775</th>\n",
       "      <th>pixel776</th>\n",
       "      <th>pixel777</th>\n",
       "      <th>pixel778</th>\n",
       "      <th>pixel779</th>\n",
       "      <th>pixel780</th>\n",
       "      <th>pixel781</th>\n",
       "      <th>pixel782</th>\n",
       "      <th>pixel783</th>\n",
       "      <th>pixel784</th>\n",
       "    </tr>\n",
       "  </thead>\n",
       "  <tbody>\n",
       "    <tr>\n",
       "      <th>0</th>\n",
       "      <td>2</td>\n",
       "      <td>0</td>\n",
       "      <td>0</td>\n",
       "      <td>0</td>\n",
       "      <td>0</td>\n",
       "      <td>0</td>\n",
       "      <td>0</td>\n",
       "      <td>0</td>\n",
       "      <td>0</td>\n",
       "      <td>0</td>\n",
       "      <td>...</td>\n",
       "      <td>0</td>\n",
       "      <td>0</td>\n",
       "      <td>0</td>\n",
       "      <td>0</td>\n",
       "      <td>0</td>\n",
       "      <td>0</td>\n",
       "      <td>0</td>\n",
       "      <td>0</td>\n",
       "      <td>0</td>\n",
       "      <td>0</td>\n",
       "    </tr>\n",
       "    <tr>\n",
       "      <th>1</th>\n",
       "      <td>9</td>\n",
       "      <td>0</td>\n",
       "      <td>0</td>\n",
       "      <td>0</td>\n",
       "      <td>0</td>\n",
       "      <td>0</td>\n",
       "      <td>0</td>\n",
       "      <td>0</td>\n",
       "      <td>0</td>\n",
       "      <td>0</td>\n",
       "      <td>...</td>\n",
       "      <td>0</td>\n",
       "      <td>0</td>\n",
       "      <td>0</td>\n",
       "      <td>0</td>\n",
       "      <td>0</td>\n",
       "      <td>0</td>\n",
       "      <td>0</td>\n",
       "      <td>0</td>\n",
       "      <td>0</td>\n",
       "      <td>0</td>\n",
       "    </tr>\n",
       "    <tr>\n",
       "      <th>2</th>\n",
       "      <td>6</td>\n",
       "      <td>0</td>\n",
       "      <td>0</td>\n",
       "      <td>0</td>\n",
       "      <td>0</td>\n",
       "      <td>0</td>\n",
       "      <td>0</td>\n",
       "      <td>0</td>\n",
       "      <td>5</td>\n",
       "      <td>0</td>\n",
       "      <td>...</td>\n",
       "      <td>0</td>\n",
       "      <td>0</td>\n",
       "      <td>0</td>\n",
       "      <td>30</td>\n",
       "      <td>43</td>\n",
       "      <td>0</td>\n",
       "      <td>0</td>\n",
       "      <td>0</td>\n",
       "      <td>0</td>\n",
       "      <td>0</td>\n",
       "    </tr>\n",
       "    <tr>\n",
       "      <th>3</th>\n",
       "      <td>0</td>\n",
       "      <td>0</td>\n",
       "      <td>0</td>\n",
       "      <td>0</td>\n",
       "      <td>1</td>\n",
       "      <td>2</td>\n",
       "      <td>0</td>\n",
       "      <td>0</td>\n",
       "      <td>0</td>\n",
       "      <td>0</td>\n",
       "      <td>...</td>\n",
       "      <td>3</td>\n",
       "      <td>0</td>\n",
       "      <td>0</td>\n",
       "      <td>0</td>\n",
       "      <td>0</td>\n",
       "      <td>1</td>\n",
       "      <td>0</td>\n",
       "      <td>0</td>\n",
       "      <td>0</td>\n",
       "      <td>0</td>\n",
       "    </tr>\n",
       "    <tr>\n",
       "      <th>4</th>\n",
       "      <td>3</td>\n",
       "      <td>0</td>\n",
       "      <td>0</td>\n",
       "      <td>0</td>\n",
       "      <td>0</td>\n",
       "      <td>0</td>\n",
       "      <td>0</td>\n",
       "      <td>0</td>\n",
       "      <td>0</td>\n",
       "      <td>0</td>\n",
       "      <td>...</td>\n",
       "      <td>0</td>\n",
       "      <td>0</td>\n",
       "      <td>0</td>\n",
       "      <td>0</td>\n",
       "      <td>0</td>\n",
       "      <td>0</td>\n",
       "      <td>0</td>\n",
       "      <td>0</td>\n",
       "      <td>0</td>\n",
       "      <td>0</td>\n",
       "    </tr>\n",
       "  </tbody>\n",
       "</table>\n",
       "<p>5 rows × 785 columns</p>\n",
       "</div>"
      ],
      "text/plain": [
       "   label  pixel1  pixel2  pixel3  pixel4  pixel5  pixel6  pixel7  pixel8  \\\n",
       "0      2       0       0       0       0       0       0       0       0   \n",
       "1      9       0       0       0       0       0       0       0       0   \n",
       "2      6       0       0       0       0       0       0       0       5   \n",
       "3      0       0       0       0       1       2       0       0       0   \n",
       "4      3       0       0       0       0       0       0       0       0   \n",
       "\n",
       "   pixel9  ...  pixel775  pixel776  pixel777  pixel778  pixel779  pixel780  \\\n",
       "0       0  ...         0         0         0         0         0         0   \n",
       "1       0  ...         0         0         0         0         0         0   \n",
       "2       0  ...         0         0         0        30        43         0   \n",
       "3       0  ...         3         0         0         0         0         1   \n",
       "4       0  ...         0         0         0         0         0         0   \n",
       "\n",
       "   pixel781  pixel782  pixel783  pixel784  \n",
       "0         0         0         0         0  \n",
       "1         0         0         0         0  \n",
       "2         0         0         0         0  \n",
       "3         0         0         0         0  \n",
       "4         0         0         0         0  \n",
       "\n",
       "[5 rows x 785 columns]"
      ]
     },
     "execution_count": 4,
     "metadata": {},
     "output_type": "execute_result"
    }
   ],
   "source": [
    "train_data.head(5)"
   ]
  },
  {
   "cell_type": "code",
   "execution_count": 5,
   "metadata": {},
   "outputs": [
    {
     "data": {
      "text/plain": [
       "((60000, 785), (10000, 785))"
      ]
     },
     "execution_count": 5,
     "metadata": {},
     "output_type": "execute_result"
    }
   ],
   "source": [
    "train_data.shape, test_data.shape"
   ]
  },
  {
   "cell_type": "code",
   "execution_count": 6,
   "metadata": {},
   "outputs": [],
   "source": [
    "train_data_x = train_data.iloc[:, 1:]/255.0\n",
    "train_data_y = train_data.iloc[:,0]\n",
    "\n",
    "test_data_x = test_data.iloc[:, 1:]/255.0\n",
    "test_data_y = test_data.iloc[:,0]"
   ]
  },
  {
   "cell_type": "code",
   "execution_count": 7,
   "metadata": {},
   "outputs": [
    {
     "data": {
      "text/plain": [
       "10"
      ]
     },
     "execution_count": 7,
     "metadata": {},
     "output_type": "execute_result"
    }
   ],
   "source": [
    "test_data_y.nunique()"
   ]
  },
  {
   "cell_type": "markdown",
   "metadata": {},
   "source": [
    "### Data Visualization"
   ]
  },
  {
   "cell_type": "code",
   "execution_count": 8,
   "metadata": {},
   "outputs": [
    {
     "data": {
      "image/png": "[encoded data removed]",
      "text/plain": [
       "<Figure size 600x600 with 16 Axes>"
      ]
     },
     "metadata": {},
     "output_type": "display_data"
    }
   ],
   "source": [
    "# Sample 16 random rows\n",
    "sample = train_data.sample(n=16).reset_index(drop=True)\n",
    "\n",
    "# Plot 4x4 grid\n",
    "fig, axes = plt.subplots(4, 4, figsize=(6, 6))\n",
    "fig.suptitle(\"16 Random Fashion MNIST Images\", fontsize=14)\n",
    "\n",
    "for i, ax in enumerate(axes.flat):\n",
    "    img = sample.iloc[i, 1:].values.reshape(28, 28)  # pixels\n",
    "    label = sample.iloc[i, 0]  # label\n",
    "    ax.imshow(img, cmap='gray')\n",
    "    ax.set_title(str(label), fontsize=8)\n",
    "    ax.axis('off')\n",
    "\n",
    "plt.tight_layout(rect=[0, 0, 1, 0.93])\n",
    "plt.show()"
   ]
  },
  {
   "cell_type": "markdown",
   "metadata": {},
   "source": [
    "## Dataset Object creation"
   ]
  },
  {
   "cell_type": "code",
   "execution_count": 9,
   "metadata": {},
   "outputs": [],
   "source": [
    "class FMNISTDataset(Dataset):\n",
    "    def __init__(self, input_x, input_y, device):\n",
    "        super().__init__()\n",
    "        # Convert to tensors and move to device once\n",
    "        self.x = torch.tensor(input_x.values, dtype=x_dtype, device=device)\n",
    "        self.y = torch.tensor(input_y.values, dtype=y_dtype, device=device)\n",
    "\n",
    "    def __len__(self):\n",
    "        return self.y.shape[0]\n",
    "\n",
    "    def __getitem__(self, index):\n",
    "        return self.x[index], self.y[index]"
   ]
  },
  {
   "cell_type": "code",
   "execution_count": 10,
   "metadata": {},
   "outputs": [],
   "source": [
    "train_dataset = FMNISTDataset(train_data_x, train_data_y, device)\n",
    "test_dataset = FMNISTDataset(test_data_x, test_data_y, device)\n",
    "\n",
    "train_data_loader = DataLoader(dataset=train_dataset, batch_size=64, shuffle=True)\n",
    "test_data_loader = DataLoader(dataset=test_dataset, batch_size=64, shuffle=True)"
   ]
  },
  {
   "cell_type": "code",
   "execution_count": 11,
   "metadata": {},
   "outputs": [
    {
     "data": {
      "text/plain": [
       "tensor(2, device='cuda:0')"
      ]
     },
     "execution_count": 11,
     "metadata": {},
     "output_type": "execute_result"
    }
   ],
   "source": [
    "train_dataset.__getitem__(0)[1]"
   ]
  },
  {
   "cell_type": "markdown",
   "metadata": {},
   "source": [
    "## Defining Model Architecture"
   ]
  },
  {
   "cell_type": "code",
   "execution_count": 12,
   "metadata": {},
   "outputs": [],
   "source": [
    "class NNModel(torch.nn.Module):\n",
    "    def __init__(self, num_features, l_r):\n",
    "        super().__init__()\n",
    "        self.neural_network = nn.Sequential(\n",
    "            nn.Linear(num_features, 128),\n",
    "            nn.ReLU(),\n",
    "            nn.Linear(128, 64),\n",
    "            nn.ReLU(),\n",
    "            nn.Linear(64, 10)\n",
    "        )\n",
    "        self.loss_function = nn.CrossEntropyLoss()\n",
    "        self.optimizer = torch.optim.SGD(params=self.neural_network.parameters(), lr=l_r)\n",
    "        self.loss = None\n",
    "\n",
    "    def forward(self, x):\n",
    "        return self.neural_network(x)\n",
    "\n",
    "    # change method\n",
    "    def backward(self, loss):\n",
    "        self.optimizer.zero_grad()\n",
    "        loss.backward()\n",
    "        self.optimizer.step()\n",
    "\n"
   ]
  },
  {
   "cell_type": "markdown",
   "metadata": {},
   "source": [
    "## Model Training"
   ]
  },
  {
   "cell_type": "code",
   "execution_count": 13,
   "metadata": {},
   "outputs": [],
   "source": [
    "model = NNModel(num_features=784, l_r=learning_rate)\n",
    "model = model.to(device=device) # moving to gpu"
   ]
  },
  {
   "cell_type": "markdown",
   "metadata": {},
   "source": [
    "### starting training"
   ]
  },
  {
   "cell_type": "code",
   "execution_count": 14,
   "metadata": {},
   "outputs": [
    {
     "name": "stdout",
     "output_type": "stream",
     "text": [
      "Epoch-0 Average Loss: 0.6987\n",
      "Epoch-1 Average Loss: 0.4487\n",
      "Epoch-2 Average Loss: 0.3967\n",
      "Epoch-3 Average Loss: 0.3660\n",
      "Epoch-4 Average Loss: 0.3470\n",
      "Epoch-5 Average Loss: 0.3283\n",
      "Epoch-6 Average Loss: 0.3139\n",
      "Epoch-7 Average Loss: 0.3037\n",
      "Epoch-8 Average Loss: 0.2936\n",
      "Epoch-9 Average Loss: 0.2842\n",
      "Epoch-10 Average Loss: 0.2755\n",
      "Epoch-11 Average Loss: 0.2683\n",
      "Epoch-12 Average Loss: 0.2639\n",
      "Epoch-13 Average Loss: 0.2541\n",
      "Epoch-14 Average Loss: 0.2499\n",
      "Epoch-15 Average Loss: 0.2436\n",
      "Epoch-16 Average Loss: 0.2364\n",
      "Epoch-17 Average Loss: 0.2325\n",
      "Epoch-18 Average Loss: 0.2263\n",
      "Epoch-19 Average Loss: 0.2227\n",
      "Epoch-20 Average Loss: 0.2188\n",
      "Epoch-21 Average Loss: 0.2137\n",
      "Epoch-22 Average Loss: 0.2079\n",
      "Epoch-23 Average Loss: 0.2031\n",
      "Epoch-24 Average Loss: 0.2011\n",
      "Epoch-25 Average Loss: 0.1967\n",
      "Epoch-26 Average Loss: 0.1938\n",
      "Epoch-27 Average Loss: 0.1905\n",
      "Epoch-28 Average Loss: 0.1863\n",
      "Epoch-29 Average Loss: 0.1846\n",
      "Epoch-30 Average Loss: 0.1803\n",
      "Epoch-31 Average Loss: 0.1768\n",
      "Epoch-32 Average Loss: 0.1722\n",
      "Epoch-33 Average Loss: 0.1694\n",
      "Epoch-34 Average Loss: 0.1659\n",
      "Epoch-35 Average Loss: 0.1651\n",
      "Epoch-36 Average Loss: 0.1627\n",
      "Epoch-37 Average Loss: 0.1588\n",
      "Epoch-38 Average Loss: 0.1563\n",
      "Epoch-39 Average Loss: 0.1548\n",
      "Epoch-40 Average Loss: 0.1500\n",
      "Epoch-41 Average Loss: 0.1475\n",
      "Epoch-42 Average Loss: 0.1457\n",
      "Epoch-43 Average Loss: 0.1442\n",
      "Epoch-44 Average Loss: 0.1414\n",
      "Epoch-45 Average Loss: 0.1387\n",
      "Epoch-46 Average Loss: 0.1363\n",
      "Epoch-47 Average Loss: 0.1353\n",
      "Epoch-48 Average Loss: 0.1311\n",
      "Epoch-49 Average Loss: 0.1300\n",
      "Epoch-50 Average Loss: 0.1257\n",
      "Epoch-51 Average Loss: 0.1263\n",
      "Epoch-52 Average Loss: 0.1228\n",
      "Epoch-53 Average Loss: 0.1223\n",
      "Epoch-54 Average Loss: 0.1200\n",
      "Epoch-55 Average Loss: 0.1187\n",
      "Epoch-56 Average Loss: 0.1150\n",
      "Epoch-57 Average Loss: 0.1174\n",
      "Epoch-58 Average Loss: 0.1116\n",
      "Epoch-59 Average Loss: 0.1097\n",
      "Epoch-60 Average Loss: 0.1097\n",
      "Epoch-61 Average Loss: 0.1089\n",
      "Epoch-62 Average Loss: 0.1060\n",
      "Epoch-63 Average Loss: 0.1029\n",
      "Epoch-64 Average Loss: 0.1039\n",
      "Epoch-65 Average Loss: 0.1013\n",
      "Epoch-66 Average Loss: 0.0998\n",
      "Epoch-67 Average Loss: 0.0973\n",
      "Epoch-68 Average Loss: 0.1002\n",
      "Epoch-69 Average Loss: 0.0929\n",
      "Epoch-70 Average Loss: 0.0956\n",
      "Epoch-71 Average Loss: 0.0934\n",
      "Epoch-72 Average Loss: 0.0890\n",
      "Epoch-73 Average Loss: 0.0891\n",
      "Epoch-74 Average Loss: 0.0862\n",
      "Epoch-75 Average Loss: 0.0854\n",
      "Epoch-76 Average Loss: 0.0866\n",
      "Epoch-77 Average Loss: 0.0845\n",
      "Epoch-78 Average Loss: 0.0821\n",
      "Epoch-79 Average Loss: 0.0798\n",
      "Epoch-80 Average Loss: 0.0800\n",
      "Epoch-81 Average Loss: 0.0787\n",
      "Epoch-82 Average Loss: 0.0760\n",
      "Epoch-83 Average Loss: 0.0752\n",
      "Epoch-84 Average Loss: 0.0762\n",
      "Epoch-85 Average Loss: 0.0775\n",
      "Epoch-86 Average Loss: 0.0734\n",
      "Epoch-87 Average Loss: 0.0755\n",
      "Epoch-88 Average Loss: 0.0734\n",
      "Epoch-89 Average Loss: 0.0687\n",
      "Epoch-90 Average Loss: 0.0685\n",
      "Epoch-91 Average Loss: 0.0650\n",
      "Epoch-92 Average Loss: 0.0681\n",
      "Epoch-93 Average Loss: 0.0649\n",
      "Epoch-94 Average Loss: 0.0636\n",
      "Epoch-95 Average Loss: 0.0663\n",
      "Epoch-96 Average Loss: 0.0660\n",
      "Epoch-97 Average Loss: 0.0604\n",
      "Epoch-98 Average Loss: 0.0617\n",
      "Epoch-99 Average Loss: 0.0582\n",
      "Total Training Time: 293.15 seconds\n"
     ]
    }
   ],
   "source": [
    "epoch_losses = []\n",
    "\n",
    "start_time = time.time()\n",
    "for epoch in range(epochs):\n",
    "    epoch_loss = 0.0\n",
    "    batch_count = 0\n",
    "    \n",
    "    for batch_idx, (features, label) in enumerate(train_data_loader):\n",
    "        \n",
    "        prediction = model(features)\n",
    "        loss = model.loss_function(prediction, label)\n",
    "        model.backward(loss=loss)\n",
    " \n",
    "        epoch_loss += loss.item()\n",
    "        batch_count += 1\n",
    "\n",
    "    avg_loss = epoch_loss / batch_count\n",
    "    epoch_losses.append(avg_loss)\n",
    "    print(f\"Epoch-{epoch} Average Loss: {avg_loss:.4f}\")\n",
    "\n",
    "stop_time = time.time()\n",
    "print(f\"Total Training Time: {stop_time - start_time:.2f} seconds\")\n"
   ]
  },
  {
   "cell_type": "code",
   "execution_count": 15,
   "metadata": {},
   "outputs": [
    {
     "data": {
      "image/png": "[encoded data removed]",
      "text/plain": [
       "<Figure size 640x480 with 1 Axes>"
      ]
     },
     "metadata": {},
     "output_type": "display_data"
    }
   ],
   "source": [
    "import matplotlib.pyplot as plt\n",
    "\n",
    "plt.plot(range(1, epochs+1), epoch_losses, marker='o')\n",
    "plt.xlabel('Epoch')\n",
    "plt.ylabel('Average Loss')\n",
    "plt.title('Training Loss per Epoch')\n",
    "plt.grid(True)\n",
    "plt.show()"
   ]
  },
  {
   "cell_type": "code",
   "execution_count": 16,
   "metadata": {},
   "outputs": [
    {
     "name": "stdout",
     "output_type": "stream",
     "text": [
      "2.5046939541870072\n"
     ]
    }
   ],
   "source": [
    "gpu_trainning = 186.41\n",
    "cpu_training = 466.90\n",
    "print(cpu_training/gpu_trainning)"
   ]
  },
  {
   "cell_type": "markdown",
   "metadata": {},
   "source": [
    "## Model Evaluation"
   ]
  },
  {
   "cell_type": "code",
   "execution_count": 29,
   "metadata": {},
   "outputs": [
    {
     "name": "stdout",
     "output_type": "stream",
     "text": [
      "==================================================\n",
      "Dataset          Size     Accuracy\n",
      "--------------------------------------------------\n",
      "Train           60000    98.5433%\n",
      "Test            10000    89.6600%\n",
      "==================================================\n"
     ]
    }
   ],
   "source": [
    "model.eval()\n",
    "\n",
    "train_total = 0\n",
    "train_correct = 0\n",
    "test_total = 0\n",
    "test_correct = 0\n",
    "\n",
    "with torch.no_grad():\n",
    "    # Train data accuracy\n",
    "    for x, y in train_data_loader:\n",
    "        y_pred = model(x)                          # (batch_size, num_classes)\n",
    "        predicted = torch.argmax(y_pred, dim=1)    # (batch_size,)\n",
    "        train_total += y.size(0)\n",
    "        train_correct += (predicted == y).sum().item()\n",
    "\n",
    "    # Test data accuracy\n",
    "    for x, y in test_data_loader:\n",
    "        y_pred = model(x)\n",
    "        predicted = torch.argmax(y_pred, dim=1)\n",
    "        test_total += y.size(0)\n",
    "        test_correct += (predicted == y).sum().item()\n",
    "\n",
    "# Results (formatted)\n",
    "print(\"=\" * 50)\n",
    "print(f\"{'Dataset':<12} {'Size':>8} {'Accuracy':>12}\")\n",
    "print(\"-\" * 50)\n",
    "print(f\"{'Train':<12} {train_total:>8} {train_correct / train_total:>11.4%}\")\n",
    "print(f\"{'Test':<12} {test_total:>8} {test_correct / test_total:>11.4%}\")\n",
    "print(\"=\" * 50)\n"
   ]
  },
  {
   "cell_type": "markdown",
   "metadata": {},
   "source": [
    "## Saving the Model"
   ]
  },
  {
   "cell_type": "code",
   "execution_count": 30,
   "metadata": {},
   "outputs": [],
   "source": [
    "# Save\n",
    "torch.save(model.state_dict(), \"model1.pth\")"
   ]
  }
 ],
 "metadata": {
  "kernelspec": {
   "display_name": "torch_learn_venv",
   "language": "python",
   "name": "python3"
  },
  "language_info": {
   "codemirror_mode": {
    "name": "ipython",
    "version": 3
   },
   "file_extension": ".py",
   "mimetype": "text/x-python",
   "name": "python",
   "nbconvert_exporter": "python",
   "pygments_lexer": "ipython3",
   "version": "3.12.8"
  }
 },
 "nbformat": 4,
 "nbformat_minor": 2
}
